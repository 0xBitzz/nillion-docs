{
 "cells": [
  {
   "cell_type": "markdown",
   "id": "3e259a9c",
   "metadata": {},
   "source": [
    "# Nillion Getting Started Tutorial"
   ]
  },
  {
   "cell_type": "code",
   "execution_count": null,
   "metadata": {
    "colab": {
     "base_uri": "https://localhost:8080/"
    },
    "id": "Umir36Jjd_aB",
    "outputId": "527e069a-357c-4501-c718-aaab6014d8e5"
   },
   "outputs": [
    {
     "name": "stdout",
     "output_type": "stream",
     "text": [
      "Drive already mounted at /content/drive; to attempt to forcibly remount, call drive.mount(\"/content/drive\", force_remount=True).\n"
     ]
    }
   ],
   "source": [
    "from google.colab import drive\n",
    "drive.mount('/content/drive')"
   ]
  },
  {
   "cell_type": "code",
   "execution_count": null,
   "metadata": {
    "colab": {
     "base_uri": "https://localhost:8080/"
    },
    "id": "AgQgJ-F5vZ1Z",
    "outputId": "42577fc9-d288-41d4-c346-8a5eaed5f53a"
   },
   "outputs": [
    {
     "name": "stdout",
     "output_type": "stream",
     "text": [
      "+ curl -L https://foundry.paradigm.xyz\n",
      "+ bash\n",
      "  % Total    % Received % Xferd  Average Speed   Time    Time     Time  Current\n",
      "                                 Dload  Upload   Total   Spent    Left  Speed\n",
      "  0     0    0     0    0     0      0      0 --:--:-- --:--:-- --:--:--     0\n",
      "100  1942  100  1942    0     0   1751      0  0:00:01  0:00:01 --:--:-- 10221\n",
      "Installing foundryup...\n",
      "############################################################################################# 100.0%\n",
      "\n",
      "Detected your preferred shell is bash and added foundryup to PATH. Run 'source /root/.bashrc' or start a new terminal session to use foundryup.\n",
      "Then, simply run 'foundryup' to install Foundry.\n",
      "+ FOUNDRY_PATH=/root/.foundry/bin\n",
      "+ echo 'Add /root/.foundry/bin to your PATH to have the foundryup available in your shell.'\n",
      "Add /root/.foundry/bin to your PATH to have the foundryup available in your shell.\n",
      "+ /root/.foundry/bin/foundryup -v nightly-6fc74638b797b8e109452d3df8e26758f86f31fe\n",
      "\n",
      "\n",
      ".xOx.xOx.xOx.xOx.xOx.xOx.xOx.xOx.xOx.xOx.xOx.xOx.xOx.xOx.xOx.xOx.xOx.xOx\n",
      " \n",
      " ╔═╗ ╔═╗ ╦ ╦ ╔╗╔ ╔╦╗ ╦═╗ ╦ ╦         Portable and modular toolkit\n",
      " ╠╣  ║ ║ ║ ║ ║║║  ║║ ╠╦╝ ╚╦╝    for Ethereum Application Development \n",
      " ╚   ╚═╝ ╚═╝ ╝╚╝ ═╩╝ ╩╚═  ╩                 written in Rust.\n",
      "\n",
      ".xOx.xOx.xOx.xOx.xOx.xOx.xOx.xOx.xOx.xOx.xOx.xOx.xOx.xOx.xOx.xOx.xOx.xOx\n",
      "\n",
      "Repo       : https://github.com/foundry-rs/\n",
      "Book       : https://book.getfoundry.sh/                      \n",
      "Chat       : https://t.me/foundry_rs/                         \n",
      "Support    : https://t.me/foundry_support/\n",
      "Contribute : https://github.com/orgs/foundry-rs/projects/2/\n",
      "\n",
      ".xOx.xOx.xOx.xOx.xOx.xOx.xOx.xOx.xOx.xOx.xOx.xOx.xOx.xOx.xOx.xOx.xOx.xOx\n",
      "\n",
      "foundryup: installing foundry (version nightly, tag nightly-6fc74638b797b8e109452d3df8e26758f86f31fe)\n",
      "foundryup: downloading latest forge, cast, anvil, and chisel\n",
      "############################################################################################# 100.0%\n",
      "foundryup: downloading manpages\n",
      "############################################################################################# 100.0%\n",
      "foundryup: installed - forge 0.2.0 (6fc7463 2024-01-05T00:21:51.712802723Z)\n",
      "foundryup: installed - cast 0.2.0 (6fc7463 2024-01-05T00:21:51.718643672Z)\n",
      "foundryup: installed - anvil 0.2.0 (6fc7463 2024-01-05T00:21:51.706678919Z)\n",
      "foundryup: installed - chisel 0.2.0 (6fc7463 2024-01-05T00:21:51.726644879Z)\n",
      "foundryup: done!\n",
      "Processing ./drive/MyDrive/nillion_get_started_google_colab_folder_22_12_2023/nillion_wheels_22_12_2023/nada_dsl-0.1.0-py3-none-any.whl\n",
      "nada-dsl is already installed with the same version as the provided wheel. Use --force-reinstall to force an installation of the wheel.\n",
      "Processing ./drive/MyDrive/nillion_get_started_google_colab_folder_22_12_2023/nillion_wheels_22_12_2023/py_nillion_client-0.1.1-cp37-abi3-manylinux_2_17_x86_64.manylinux2014_x86_64_22_12_2023.whl\n",
      "py-nillion-client is already installed with the same version as the provided wheel. Use --force-reinstall to force an installation of the wheel.\n"
     ]
    }
   ],
   "source": [
    "# This cell gives permissions to the binaries in the google drive and then installs the two python libraries\n",
    "# If this is distributed to the community, we either:\n",
    "# 1. Need a public google drive that is permantely mounted to this google colab (so the SDK is accessible from there - similar flow to what is in this cell)\n",
    "# 2. The SDK needs to be installed here e.g. via a curl command, and the python libraries from pypi or a curl\n",
    "\n",
    "#######\n",
    "\n",
    "# TODO: replace all long path names with simple version (i.e. path_to_sdk = ...) and reference that throughout\n",
    "# first we need to set the right permissions to the binaries to run\n",
    "\n",
    "!chmod a+x /content/drive/MyDrive/nillion_get_started_google_colab_folder_22_12_2023/SDK/run-local-cluster\n",
    "!chmod a+x /content/drive/MyDrive/nillion_get_started_google_colab_folder_22_12_2023/SDK/foundry.sh\n",
    "!chmod a+x /content/drive/MyDrive/nillion_get_started_google_colab_folder_22_12_2023/SDK/nil-cli\n",
    "!chmod a+x /content/drive/MyDrive/nillion_get_started_google_colab_folder_22_12_2023/SDK/pynadac\n",
    "!chmod a+x /content/drive/MyDrive/nillion_get_started_google_colab_folder_22_12_2023/SDK/user-keygen\n",
    "!chmod a+x /content/drive/MyDrive/nillion_get_started_google_colab_folder_22_12_2023/SDK/node-keygen\n",
    "\n",
    "# run a setup script - this is only needed for run-local-cluster, but this is currently not working\n",
    "!/content/drive/MyDrive/nillion_get_started_google_colab_folder_22_12_2023/SDK/foundry.sh\n",
    "\n",
    "# now we will install some python libraries that we will need\n",
    "!pip install /content/drive/MyDrive/nillion_get_started_google_colab_folder_22_12_2023/nillion_wheels_22_12_2023/nada_dsl-0.1.0-py3-none-any.whl\n",
    "!pip install /content/drive/MyDrive/nillion_get_started_google_colab_folder_22_12_2023/nillion_wheels_22_12_2023/py_nillion_client-0.1.1-cp37-abi3-manylinux_2_17_x86_64.manylinux2014_x86_64_22_12_2023.whl\n",
    "\n"
   ]
  },
  {
   "cell_type": "code",
   "execution_count": null,
   "metadata": {
    "id": "91gJLCK6c1gc"
   },
   "outputs": [],
   "source": [
    "# generate keys\n",
    "!/content/drive/MyDrive/nillion_get_started_google_colab_folder_22_12_2023/SDK/node-keygen node.key\n",
    "!/content/drive/MyDrive/nillion_get_started_google_colab_folder_22_12_2023/SDK/user-keygen user.key"
   ]
  },
  {
   "cell_type": "code",
   "execution_count": null,
   "metadata": {
    "colab": {
     "base_uri": "https://localhost:8080/"
    },
    "id": "teQWjSllEcB_",
    "outputId": "9e272e6d-9012-478e-955b-908de2b4ef3b"
   },
   "outputs": [
    {
     "name": "stdout",
     "output_type": "stream",
     "text": [
      "nohup: appending output to 'nohup.out'\n"
     ]
    }
   ],
   "source": [
    "# Now we are ready to set up the local cluster. This spins up a network locally for you to interact with\n",
    "# We need the command to run in the background, so we use the nohup command to run the run-local-cluster script\n",
    "# When you run this, the output of the command (the paramaters of the cluster you create) is outputted to a new file 'nohup.out'\n",
    "# We parse a seed parameter so the cluster id is always consistent for us\n",
    "import time\n",
    "\n",
    "!nohup bash /content/drive/MyDrive/nillion_get_started_google_colab_folder_22_12_2023/utils/run-local-cluster.sh &\n",
    "time.sleep(40)"
   ]
  },
  {
   "cell_type": "code",
   "execution_count": null,
   "metadata": {
    "id": "R70-A8UFKCuC"
   },
   "outputs": [],
   "source": [
    "# now we can start to upload a program to the network\n",
    "# a simple progeam that multiplies two numbers is given at /content/drive/MyDrive/nillion_programs/my_program.py\n",
    "# first we need to compile it. The following command will do this, and create a file my_program.nada.bin. This is eventualy what will get uploaded to the network\n",
    "\n",
    "!/content/drive/MyDrive/nillion_get_started_google_colab_folder_22_12_2023/SDK/pynadac /content/drive/MyDrive/nillion_get_started_google_colab_folder_22_12_2023/utils/my_program.py"
   ]
  },
  {
   "cell_type": "code",
   "execution_count": null,
   "metadata": {
    "id": "7pQe9DFwtD08"
   },
   "outputs": [],
   "source": [
    "with open(\"nohup.out\", 'r') as file:\n",
    "    lines = file.readlines()\n",
    "\n",
    "payments_config_path = [line.split()[-1] for line in lines if 'payments configuration' in line][0]\n",
    "bootnode = [line.split()[-1] for line in lines if 'bootnode is at' in line][0]\n",
    "cluster_id = [line.split()[-1] for line in lines if 'cluster id' in line][0]\n",
    "\n",
    "wallet_keys_path = [line.split()[-1] for line in lines if 'wallet keys' in line][0]\n",
    "with open(wallet_keys_path, 'r') as file:\n",
    "  payments_private_key = file.readline().rstrip()\n",
    "\n"
   ]
  },
  {
   "cell_type": "code",
   "execution_count": null,
   "metadata": {
    "colab": {
     "base_uri": "https://localhost:8080/"
    },
    "id": "XpAUwKuOKhgV",
    "outputId": "eeeae36e-118c-4a5f-8ebe-20e800b6d56f"
   },
   "outputs": [
    {
     "name": "stdout",
     "output_type": "stream",
     "text": [
      "Program ID: 33Cb9PVuxNrb5utrXCNnr8i8zetD5CUvye3AknuVsEjraTfwvEfipZLzTnjKxWdUKBc3BGzn7L11Muho7m7K7P5A/my_program\n"
     ]
    }
   ],
   "source": [
    "# now we will use the nil-cli to upload the program to the network (the local network we just created)\n",
    "# the command below\n",
    "\n",
    "#import subprocess\n",
    "\n",
    "command = ['!/content/drive/MyDrive/nillion_get_started_google_colab_folder_22_12_2023/SDK/nil-cli', \"--node-key-seed\", \"D1\", \"--user-key-seed\", \"D1\", \"-b\", f\"{bootnode}\", \"--payments-private-key\", f\"{payments_private_key}\", \"--blockchain-config-path\", f\"{payments_config_path}\", \"store-program\", \"--cluster-id\", f\"{cluster_id}\", \"my_program.nada.bin\", \"my_program\"]\n",
    "2\n",
    "!/content/drive/MyDrive/nillion_get_started_google_colab_folder_22_12_2023/SDK/nil-cli --node-key-seed D1 --user-key-seed D1 -b $bootnode --payments-private-key $payments_private_key --blockchain-config-path $payments_config_path store-program --cluster-id $cluster_id my_program.nada.bin my_program\n",
    "\n",
    "#output = subprocess.check_output(command, shell=True, text=True)\n",
    "\n",
    "#print(output)\n"
   ]
  },
  {
   "cell_type": "code",
   "execution_count": null,
   "metadata": {
    "colab": {
     "base_uri": "https://localhost:8080/"
    },
    "id": "6Y7s59I5dDL_",
    "outputId": "10c76fd1-8978-4b37-bb4c-b8f9c27845fb"
   },
   "outputs": [
    {
     "name": "stdout",
     "output_type": "stream",
     "text": [
      "blockchain_rpc_endpoint: http://localhost:38895\n",
      "chain_id: 31337\n",
      "payments_sc_address: 5fc8d32690cc91d4c39d9d3abcbd16989f875707\n",
      "blinding_factors_manager_sc_address: a513e6e4b8f2a923d98304ec87f64353c4d5c853\n"
     ]
    }
   ],
   "source": [
    "with open(\"/tmp/.tmpm8GwQv/payments-config.yaml\", 'r') as file:\n",
    "    for line in file:\n",
    "        key, value = line.strip().split(': ')\n",
    "        if key == 'blockchain_rpc_endpoint':\n",
    "            blockchain_rpc_endpoint = value\n",
    "        elif key == 'chain_id':\n",
    "            chain_id = int(value)\n",
    "        elif key == 'payments_sc_address':\n",
    "            payments_sc_address = value\n",
    "        elif key == 'blinding_factors_manager_sc_address':\n",
    "            blinding_factors_manager_sc_address = value\n",
    "\n",
    "!cat /tmp/.tmpm8GwQv/payments-config.yaml"
   ]
  },
  {
   "cell_type": "code",
   "execution_count": null,
   "metadata": {
    "colab": {
     "base_uri": "https://localhost:8080/",
     "height": 411
    },
    "id": "ywT7pP2tHTz9",
    "outputId": "f8cae7fa-0624-4c2f-a6c4-248b12025435"
   },
   "outputs": [
    {
     "name": "stdout",
     "output_type": "stream",
     "text": [
      "Storing secret: <builtins.Secrets object at 0x7e05ddef95c0>\n",
      "9e4e95b7-a217-43f1-aadc-89407a373c92\n",
      "<builtins.ProgramBindings object at 0x7e05d9b03090>\n",
      "<builtins.Secrets object at 0x7e05ddef95c0>\n"
     ]
    },
    {
     "ename": "TypeError",
     "evalue": "dealer initialization failed",
     "output_type": "error",
     "traceback": [
      "\u001b[0;31m---------------------------------------------------------------------------\u001b[0m",
      "\u001b[0;31mTypeError\u001b[0m                                 Traceback (most recent call last)",
      "\u001b[0;32m<ipython-input-79-a1f0c1a14d50>\u001b[0m in \u001b[0;36m<cell line: 88>\u001b[0;34m()\u001b[0m\n\u001b[1;32m     86\u001b[0m \u001b[0;34m\u001b[0m\u001b[0m\n\u001b[1;32m     87\u001b[0m \u001b[0mloop\u001b[0m \u001b[0;34m=\u001b[0m \u001b[0masyncio\u001b[0m\u001b[0;34m.\u001b[0m\u001b[0mget_running_loop\u001b[0m\u001b[0;34m(\u001b[0m\u001b[0;34m)\u001b[0m\u001b[0;34m\u001b[0m\u001b[0;34m\u001b[0m\u001b[0m\n\u001b[0;32m---> 88\u001b[0;31m \u001b[0;32mawait\u001b[0m \u001b[0mloop\u001b[0m\u001b[0;34m.\u001b[0m\u001b[0mcreate_task\u001b[0m\u001b[0;34m(\u001b[0m\u001b[0mmain\u001b[0m\u001b[0;34m(\u001b[0m\u001b[0;34m)\u001b[0m\u001b[0;34m)\u001b[0m\u001b[0;34m\u001b[0m\u001b[0;34m\u001b[0m\u001b[0m\n\u001b[0m",
      "\u001b[0;32m<ipython-input-79-a1f0c1a14d50>\u001b[0m in \u001b[0;36mmain\u001b[0;34m()\u001b[0m\n\u001b[1;32m     48\u001b[0m     \u001b[0mprint\u001b[0m\u001b[0;34m(\u001b[0m\u001b[0mbindings\u001b[0m\u001b[0;34m)\u001b[0m\u001b[0;34m\u001b[0m\u001b[0;34m\u001b[0m\u001b[0m\n\u001b[1;32m     49\u001b[0m     \u001b[0mprint\u001b[0m\u001b[0;34m(\u001b[0m\u001b[0mto_be_store_secrets\u001b[0m\u001b[0;34m)\u001b[0m\u001b[0;34m\u001b[0m\u001b[0;34m\u001b[0m\u001b[0m\n\u001b[0;32m---> 50\u001b[0;31m     store_id = await client.store_secrets(\n\u001b[0m\u001b[1;32m     51\u001b[0m         \u001b[0mcluster_id\u001b[0m\u001b[0;34m,\u001b[0m \u001b[0mbindings\u001b[0m\u001b[0;34m,\u001b[0m \u001b[0mto_be_store_secrets\u001b[0m\u001b[0;34m,\u001b[0m \u001b[0;32mNone\u001b[0m\u001b[0;34m\u001b[0m\u001b[0;34m\u001b[0m\u001b[0m\n\u001b[1;32m     52\u001b[0m     )\n",
      "\u001b[0;31mTypeError\u001b[0m: dealer initialization failed"
     ]
    }
   ],
   "source": [
    "import asyncio\n",
    "import py_nillion_client\n",
    "\n",
    "async def main():\n",
    "    # This is the program id from previous step.\n",
    "    program_id = \"33Cb9PVuxNrb5utrXCNnr8i8zetD5CUvye3AknuVsEjraTfwvEfipZLzTnjKxWdUKBc3BGzn7L11Muho7m7K7P5A/my_program\"\n",
    "\n",
    "    # Path to the user key generated in previous step\n",
    "    userkey_path = \"./user.key\"\n",
    "\n",
    "    # Path to the node key generated in previous step\n",
    "    nodekey_path = \"./node.key\"\n",
    "\n",
    "    # Payments config file path\n",
    "    payments_config_path = \"/tmp/.tmpVhROqN/payments-config.yaml\"\n",
    "\n",
    "    # Bootnode multiadress from previous step\n",
    "    bootnodes = [bootnode]\n",
    "\n",
    "    # Cluster id from previous step\n",
    "\n",
    "    nodekey = py_nillion_client.NodeKey.from_file(nodekey_path)\n",
    "    userkey = py_nillion_client.UserKey.from_file(userkey_path)\n",
    "    payments_config = py_nillion_client.PaymentsConfig(rpc_endpoint=\"http://localhost:38895\", private_key=payments_private_key, chain_id=31337, payments_address=\"5fc8d32690cc91d4c39d9d3abcbd16989f875707\", blinding_factor_manager_address=\"a513e6e4b8f2a923d98304ec87f64353c4d5c853\")\n",
    "    # Create Nillion Client\n",
    "    client = py_nillion_client.NillionClient(\n",
    "        nodekey,\n",
    "        bootnodes,\n",
    "        py_nillion_client.ConnectionMode.relay(),\n",
    "        userkey,\n",
    "        payments_config=payments_config\n",
    "    )\n",
    "\n",
    "    # SecretInteger as in my_program\n",
    "    my_int1 = py_nillion_client.SecretInteger(42)\n",
    "\n",
    "    # SecretInteger as in my_program\n",
    "    my_int2 = py_nillion_client.SecretInteger(24)\n",
    "\n",
    "    to_be_store_secrets = py_nillion_client.Secrets({\"my_int1\": my_int1})\n",
    "\n",
    "    # We bind the storage of the secret to the circuit and the concrete party\n",
    "    bindings = py_nillion_client.ProgramBindings(program_id)\n",
    "    bindings.add_input_party(\"Party1\", client.party_id())\n",
    "    print(f\"Storing secret: {to_be_store_secrets}\")\n",
    "    # Store the secret\n",
    "    print(cluster_id)\n",
    "    print(bindings)\n",
    "    print(to_be_store_secrets)\n",
    "    store_id = await client.store_secrets(\n",
    "        cluster_id, bindings, to_be_store_secrets, None\n",
    "    )\n",
    "    print(f\"Stored secret, store_id ={store_id}\")\n",
    "    to_be_used_in_computation = py_nillion_client.Secrets({\"my_int2\": my_int2})\n",
    "\n",
    "    # bind the parties in the computation to the client\n",
    "    bindings = py_nillion_client.ProgramBindings(program_id)\n",
    "    bindings.add_input_party(\"Party1\", client.party_id())\n",
    "    bindings.add_output_party(\"Party1\", client.party_id())\n",
    "\n",
    "    print(f\"Computing using program {program_id}\")\n",
    "    print(f\"Stored secret: {store_id}\")\n",
    "    print(f\"Provided secret: {to_be_used_in_computation}\")\n",
    "    # do the computation\n",
    "    compute_id = await client.compute(\n",
    "        cluster_id,\n",
    "        bindings,\n",
    "        [store_id],\n",
    "        to_be_used_in_computation,\n",
    "        py_nillion_client.PublicVariables({}),\n",
    "    )\n",
    "\n",
    "    print(f\"Computation sent to the network, compute_id = {compute_id}\")\n",
    "    print(\"Waiting computation response\")\n",
    "    while True:\n",
    "        event = await client.next_compute_event()\n",
    "        if isinstance(event, py_nillion_client.ComputeFinishedEvent):\n",
    "            print(\n",
    "                f\"Received computation result for {event.uuid}, value = {event.result.value}\"\n",
    "            )\n",
    "            break\n",
    "\n",
    "    print(f\"Retrieving secret from the network\")\n",
    "    result = await client.retrieve_secret(cluster_id, store_id, \"my_int1\")\n",
    "    print(f\"Retrieved secret, value = {result[1].value}\")\n",
    "\n",
    "loop = asyncio.get_running_loop()\n",
    "await loop.create_task(main())"
   ]
  },
  {
   "cell_type": "code",
   "execution_count": null,
   "metadata": {
    "id": "knp-zkD5HTv7"
   },
   "outputs": [],
   "source": []
  },
  {
   "cell_type": "markdown",
   "metadata": {
    "id": "ik6UADx3Z7sc"
   },
   "source": [
    "** ⛔️ Stuff below here does not work/is legacy ⛔️**"
   ]
  },
  {
   "cell_type": "code",
   "execution_count": null,
   "metadata": {
    "id": "DJDYnvknJ8fk"
   },
   "outputs": [],
   "source": [
    "# next we can run the user and node key generation binaries to generate a user and node key\n",
    "# when you run this a user.txt and node.txt file will be created with the respective keys\n",
    "!/content/drive/MyDrive/x86_64-unknown-linux-musl_22_12_2023/user-keygen user.txt\n",
    "!/content/drive/MyDrive/x86_64-unknown-linux-musl_22_12_2023/node-keygen node.txt"
   ]
  },
  {
   "cell_type": "code",
   "execution_count": null,
   "metadata": {
    "colab": {
     "base_uri": "https://localhost:8080/"
    },
    "id": "IdACqusdYSqD",
    "outputId": "a87174e5-385f-431b-eaaf-b2e1becaca86"
   },
   "outputs": [
    {
     "name": "stdout",
     "output_type": "stream",
     "text": [
      "Error while running application: timed out\n"
     ]
    }
   ],
   "source": [
    "\n",
    "!/content/drive/MyDrive/x86_64-unknown-linux-musl_22_12_2023/nil-cli --node-key-seed D1 --user-key-seed D1 -b $bootnode --payments-private-key $payments_private_key --blockchain-config-path $payments_config_path store-secrets --cluster-id $cluster_id --dealer-name D1 --uint-secret A=5 --authorize-user-execution 12D3KooWGW5hChQMg69fmrkBaPCCDWwukUxGE7csQRs6gmxCZrUe 33Cb9PVuxNrb5utrXCNnr8i8zetD5CUvye3AknuVsEjraTfwvEfipZLzTnjKxWdUKBc3BGzn7L11Muho7m7K7P5A/my_program"
   ]
  },
  {
   "cell_type": "code",
   "execution_count": null,
   "metadata": {
    "colab": {
     "base_uri": "https://localhost:8080/"
    },
    "id": "8VMGeB3KKP5A",
    "outputId": "0a60746b-4550-45db-c58e-8b70b40f7cc9"
   },
   "outputs": [
    {
     "name": "stdout",
     "output_type": "stream",
     "text": [
      "4200\n"
     ]
    }
   ],
   "source": [
    "!/content/drive/MyDrive/x86_64-unknown-linux-musl_22_12_2023/program-simulator --prime-size 256 --int-secret my_int1=42 --int-secret my_int2=100  my_program.nada.bin"
   ]
  },
  {
   "cell_type": "code",
   "execution_count": null,
   "metadata": {
    "colab": {
     "base_uri": "https://localhost:8080/"
    },
    "id": "4vT1fW4ZUnc4",
    "outputId": "5f413a20-112d-4586-8949-dfa243346e6f"
   },
   "outputs": [
    {
     "name": "stdout",
     "output_type": "stream",
     "text": [
      "/bin/bash: line 1: nil-cli: command not found\n"
     ]
    }
   ],
   "source": [
    "!nil-cli store-program --cluster-id 444baf5a-4dfb-418f-8301-133ea34a9437 my_program.nada.bin program"
   ]
  },
  {
   "cell_type": "code",
   "execution_count": null,
   "metadata": {
    "colab": {
     "base_uri": "https://localhost:8080/"
    },
    "id": "LvpooXe2t2rJ",
    "outputId": "3bbd843c-76c8-4a18-b27d-3accb2fb8c35"
   },
   "outputs": [
    {
     "name": "stdout",
     "output_type": "stream",
     "text": [
      "/usr/bin/bash\n"
     ]
    }
   ],
   "source": [
    "!which bash"
   ]
  },
  {
   "cell_type": "code",
   "execution_count": null,
   "metadata": {
    "colab": {
     "base_uri": "https://localhost:8080/"
    },
    "id": "qOhGGVjyVDXz",
    "outputId": "09a430ea-ddff-4053-9aae-09e7bc990e89"
   },
   "outputs": [
    {
     "name": "stdout",
     "output_type": "stream",
     "text": [
      "total 40\n",
      "drwxr-xr-x 1 root root 4096 Jan  2 12:31 .\n",
      "drwxr-xr-x 1 root root 4096 Jan  2 10:34 ..\n",
      "drwxr-xr-x 4 root root 4096 Dec 19 14:20 .config\n",
      "drwx------ 6 root root 4096 Jan  2 10:37 drive\n",
      "drwxr-xr-x 2 root root 4096 Jan  2 10:37 .ipynb_checkpoints\n",
      "-rw-r--r-- 1 root root  785 Jan  2 12:31 my_program.nada.bin\n",
      "-rw-r--r-- 1 root root   93 Jan  2 12:30 node.key\n",
      "-rwxr-xr-x 1 root root  214 Jan  2 12:29 setup.sh\n",
      "-rw-r--r-- 1 root root   88 Jan  2 12:30 user.key\n"
     ]
    }
   ],
   "source": [
    "!ls -al"
   ]
  }
 ],
 "metadata": {
  "colab": {
   "provenance": []
  },
  "kernelspec": {
   "display_name": "Python 3",
   "name": "python3"
  },
  "language_info": {
   "name": "python"
  }
 },
 "nbformat": 4,
 "nbformat_minor": 0
}
